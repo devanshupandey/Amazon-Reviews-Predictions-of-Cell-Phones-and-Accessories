{
  "nbformat": 4,
  "nbformat_minor": 0,
  "metadata": {
    "colab": {
      "name": "Amazon Review Prediction Cell Phones and Accessories.ipynb",
      "provenance": [],
      "collapsed_sections": [],
      "mount_file_id": "1zUvkwcqCKrp2eq_7Z-tWjatWh5OnYw4u",
      "authorship_tag": "ABX9TyP5dfGw5WDyEIEp0OxxLBIp",
      "include_colab_link": true
    },
    "kernelspec": {
      "display_name": "Python 3",
      "name": "python3"
    }
  },
  "cells": [
    {
      "cell_type": "markdown",
      "metadata": {
        "id": "view-in-github",
        "colab_type": "text"
      },
      "source": [
        "<a href=\"https://colab.research.google.com/github/subhamyadav580/Amazon-Reviews-Predictions-of-Cell-Phones-and-Accessories/blob/main/Amazon_Review_Prediction_Cell_Phones_and_Accessories.ipynb\" target=\"_parent\"><img src=\"https://colab.research.google.com/assets/colab-badge.svg\" alt=\"Open In Colab\"/></a>"
      ]
    },
    {
      "cell_type": "code",
      "metadata": {
        "id": "yVwBTi7bS5nM",
        "colab": {
          "base_uri": "https://localhost:8080/"
        },
        "outputId": "d09505ff-b282-423a-b0d5-b5a61cae84f3"
      },
      "source": [
        "from google.colab import drive\n",
        "drive.mount('/content/drive')"
      ],
      "execution_count": 1,
      "outputs": [
        {
          "output_type": "stream",
          "text": [
            "Drive already mounted at /content/drive; to attempt to forcibly remount, call drive.mount(\"/content/drive\", force_remount=True).\n"
          ],
          "name": "stdout"
        }
      ]
    },
    {
      "cell_type": "code",
      "metadata": {
        "colab": {
          "base_uri": "https://localhost:8080/"
        },
        "id": "QumxS2oETs26",
        "outputId": "f814b07c-905e-48ab-d390-3fc25181a57e"
      },
      "source": [
        "%cd \"/content/drive/My Drive/\""
      ],
      "execution_count": 2,
      "outputs": [
        {
          "output_type": "stream",
          "text": [
            "/content/drive/My Drive\n"
          ],
          "name": "stdout"
        }
      ]
    },
    {
      "cell_type": "markdown",
      "metadata": {
        "id": "4FmL3fjwZ0pz"
      },
      "source": [
        "## Load data\n"
      ]
    },
    {
      "cell_type": "code",
      "metadata": {
        "id": "kBwyuHhOTzHA"
      },
      "source": [
        "import pandas as pd\n",
        "import gzip\n",
        "\n",
        "def parse(path):\n",
        "  g = gzip.open(path, 'rb')\n",
        "  for l in g:\n",
        "    yield eval(l)\n",
        "\n",
        "def getDF(path):\n",
        "  i = 0\n",
        "  df = {}\n",
        "  for d in parse(path):\n",
        "    df[i] = d\n",
        "    i += 1\n",
        "  return pd.DataFrame.from_dict(df, orient='index')\n",
        "\n",
        "df = getDF('data/reviews_Cell_Phones_and_Accessories_5.json.gz')"
      ],
      "execution_count": 3,
      "outputs": []
    },
    {
      "cell_type": "code",
      "metadata": {
        "colab": {
          "base_uri": "https://localhost:8080/"
        },
        "id": "gPTtqdF4UAJR",
        "outputId": "0f9fdc14-1679-4083-9d59-a00197501f8d"
      },
      "source": [
        "df.isnull().sum()"
      ],
      "execution_count": 4,
      "outputs": [
        {
          "output_type": "execute_result",
          "data": {
            "text/plain": [
              "reviewerID           0\n",
              "asin                 0\n",
              "reviewerName      3519\n",
              "helpful              0\n",
              "reviewText           0\n",
              "overall              0\n",
              "summary              0\n",
              "unixReviewTime       0\n",
              "reviewTime           0\n",
              "dtype: int64"
            ]
          },
          "metadata": {
            "tags": []
          },
          "execution_count": 4
        }
      ]
    },
    {
      "cell_type": "code",
      "metadata": {
        "colab": {
          "base_uri": "https://localhost:8080/"
        },
        "id": "42UNO_ylUD67",
        "outputId": "bfdf9713-c258-4233-d187-f1768b7716b4"
      },
      "source": [
        "sum(df.overall) / len(df.overall)"
      ],
      "execution_count": 5,
      "outputs": [
        {
          "output_type": "execute_result",
          "data": {
            "text/plain": [
              "4.129912208970422"
            ]
          },
          "metadata": {
            "tags": []
          },
          "execution_count": 5
        }
      ]
    },
    {
      "cell_type": "code",
      "metadata": {
        "colab": {
          "base_uri": "https://localhost:8080/",
          "height": 419
        },
        "id": "HBVod2pJUzar",
        "outputId": "0b017471-4012-4c25-e1dc-30c2d2f46956"
      },
      "source": [
        "df"
      ],
      "execution_count": 6,
      "outputs": [
        {
          "output_type": "execute_result",
          "data": {
            "text/html": [
              "<div>\n",
              "<style scoped>\n",
              "    .dataframe tbody tr th:only-of-type {\n",
              "        vertical-align: middle;\n",
              "    }\n",
              "\n",
              "    .dataframe tbody tr th {\n",
              "        vertical-align: top;\n",
              "    }\n",
              "\n",
              "    .dataframe thead th {\n",
              "        text-align: right;\n",
              "    }\n",
              "</style>\n",
              "<table border=\"1\" class=\"dataframe\">\n",
              "  <thead>\n",
              "    <tr style=\"text-align: right;\">\n",
              "      <th></th>\n",
              "      <th>reviewerID</th>\n",
              "      <th>asin</th>\n",
              "      <th>reviewerName</th>\n",
              "      <th>helpful</th>\n",
              "      <th>reviewText</th>\n",
              "      <th>overall</th>\n",
              "      <th>summary</th>\n",
              "      <th>unixReviewTime</th>\n",
              "      <th>reviewTime</th>\n",
              "    </tr>\n",
              "  </thead>\n",
              "  <tbody>\n",
              "    <tr>\n",
              "      <th>0</th>\n",
              "      <td>A30TL5EWN6DFXT</td>\n",
              "      <td>120401325X</td>\n",
              "      <td>christina</td>\n",
              "      <td>[0, 0]</td>\n",
              "      <td>They look good and stick good! I just don't li...</td>\n",
              "      <td>4.0</td>\n",
              "      <td>Looks Good</td>\n",
              "      <td>1400630400</td>\n",
              "      <td>05 21, 2014</td>\n",
              "    </tr>\n",
              "    <tr>\n",
              "      <th>1</th>\n",
              "      <td>ASY55RVNIL0UD</td>\n",
              "      <td>120401325X</td>\n",
              "      <td>emily l.</td>\n",
              "      <td>[0, 0]</td>\n",
              "      <td>These stickers work like the review says they ...</td>\n",
              "      <td>5.0</td>\n",
              "      <td>Really great product.</td>\n",
              "      <td>1389657600</td>\n",
              "      <td>01 14, 2014</td>\n",
              "    </tr>\n",
              "    <tr>\n",
              "      <th>2</th>\n",
              "      <td>A2TMXE2AFO7ONB</td>\n",
              "      <td>120401325X</td>\n",
              "      <td>Erica</td>\n",
              "      <td>[0, 0]</td>\n",
              "      <td>These are awesome and make my phone look so st...</td>\n",
              "      <td>5.0</td>\n",
              "      <td>LOVE LOVE LOVE</td>\n",
              "      <td>1403740800</td>\n",
              "      <td>06 26, 2014</td>\n",
              "    </tr>\n",
              "    <tr>\n",
              "      <th>3</th>\n",
              "      <td>AWJ0WZQYMYFQ4</td>\n",
              "      <td>120401325X</td>\n",
              "      <td>JM</td>\n",
              "      <td>[4, 4]</td>\n",
              "      <td>Item arrived in great time and was in perfect ...</td>\n",
              "      <td>4.0</td>\n",
              "      <td>Cute!</td>\n",
              "      <td>1382313600</td>\n",
              "      <td>10 21, 2013</td>\n",
              "    </tr>\n",
              "    <tr>\n",
              "      <th>4</th>\n",
              "      <td>ATX7CZYFXI1KW</td>\n",
              "      <td>120401325X</td>\n",
              "      <td>patrice m rogoza</td>\n",
              "      <td>[2, 3]</td>\n",
              "      <td>awesome! stays on, and looks great. can be use...</td>\n",
              "      <td>5.0</td>\n",
              "      <td>leopard home button sticker for iphone 4s</td>\n",
              "      <td>1359849600</td>\n",
              "      <td>02 3, 2013</td>\n",
              "    </tr>\n",
              "    <tr>\n",
              "      <th>...</th>\n",
              "      <td>...</td>\n",
              "      <td>...</td>\n",
              "      <td>...</td>\n",
              "      <td>...</td>\n",
              "      <td>...</td>\n",
              "      <td>...</td>\n",
              "      <td>...</td>\n",
              "      <td>...</td>\n",
              "      <td>...</td>\n",
              "    </tr>\n",
              "    <tr>\n",
              "      <th>194434</th>\n",
              "      <td>A1YMNTFLNDYQ1F</td>\n",
              "      <td>B00LORXVUE</td>\n",
              "      <td>eyeused2loveher</td>\n",
              "      <td>[0, 0]</td>\n",
              "      <td>Works great just like my original one. I reall...</td>\n",
              "      <td>5.0</td>\n",
              "      <td>This works just perfect!</td>\n",
              "      <td>1405900800</td>\n",
              "      <td>07 21, 2014</td>\n",
              "    </tr>\n",
              "    <tr>\n",
              "      <th>194435</th>\n",
              "      <td>A15TX8B2L8B20S</td>\n",
              "      <td>B00LORXVUE</td>\n",
              "      <td>Jon Davidson</td>\n",
              "      <td>[0, 0]</td>\n",
              "      <td>Great product. Great packaging. High quality a...</td>\n",
              "      <td>5.0</td>\n",
              "      <td>Great replacement cable. Apple certified</td>\n",
              "      <td>1405900800</td>\n",
              "      <td>07 21, 2014</td>\n",
              "    </tr>\n",
              "    <tr>\n",
              "      <th>194436</th>\n",
              "      <td>A3JI7QRZO1QG8X</td>\n",
              "      <td>B00LORXVUE</td>\n",
              "      <td>Joyce M. Davidson</td>\n",
              "      <td>[0, 0]</td>\n",
              "      <td>This is a great cable, just as good as the mor...</td>\n",
              "      <td>5.0</td>\n",
              "      <td>Real quality</td>\n",
              "      <td>1405900800</td>\n",
              "      <td>07 21, 2014</td>\n",
              "    </tr>\n",
              "    <tr>\n",
              "      <th>194437</th>\n",
              "      <td>A1NHB2VC68YQNM</td>\n",
              "      <td>B00LORXVUE</td>\n",
              "      <td>Nurse Farrugia</td>\n",
              "      <td>[0, 0]</td>\n",
              "      <td>I really like it becasue it works well with my...</td>\n",
              "      <td>5.0</td>\n",
              "      <td>I really like it becasue it works well with my...</td>\n",
              "      <td>1405814400</td>\n",
              "      <td>07 20, 2014</td>\n",
              "    </tr>\n",
              "    <tr>\n",
              "      <th>194438</th>\n",
              "      <td>A1AG6U022WHXBF</td>\n",
              "      <td>B00LORXVUE</td>\n",
              "      <td>Trisha Crocker</td>\n",
              "      <td>[0, 0]</td>\n",
              "      <td>product as described, I have wasted a lot of m...</td>\n",
              "      <td>5.0</td>\n",
              "      <td>I have wasted a lot of money on cords</td>\n",
              "      <td>1405900800</td>\n",
              "      <td>07 21, 2014</td>\n",
              "    </tr>\n",
              "  </tbody>\n",
              "</table>\n",
              "<p>194439 rows × 9 columns</p>\n",
              "</div>"
            ],
            "text/plain": [
              "            reviewerID        asin  ... unixReviewTime   reviewTime\n",
              "0       A30TL5EWN6DFXT  120401325X  ...     1400630400  05 21, 2014\n",
              "1        ASY55RVNIL0UD  120401325X  ...     1389657600  01 14, 2014\n",
              "2       A2TMXE2AFO7ONB  120401325X  ...     1403740800  06 26, 2014\n",
              "3        AWJ0WZQYMYFQ4  120401325X  ...     1382313600  10 21, 2013\n",
              "4        ATX7CZYFXI1KW  120401325X  ...     1359849600   02 3, 2013\n",
              "...                ...         ...  ...            ...          ...\n",
              "194434  A1YMNTFLNDYQ1F  B00LORXVUE  ...     1405900800  07 21, 2014\n",
              "194435  A15TX8B2L8B20S  B00LORXVUE  ...     1405900800  07 21, 2014\n",
              "194436  A3JI7QRZO1QG8X  B00LORXVUE  ...     1405900800  07 21, 2014\n",
              "194437  A1NHB2VC68YQNM  B00LORXVUE  ...     1405814400  07 20, 2014\n",
              "194438  A1AG6U022WHXBF  B00LORXVUE  ...     1405900800  07 21, 2014\n",
              "\n",
              "[194439 rows x 9 columns]"
            ]
          },
          "metadata": {
            "tags": []
          },
          "execution_count": 6
        }
      ]
    },
    {
      "cell_type": "markdown",
      "metadata": {
        "id": "b92ZjN_8ZoFm"
      },
      "source": [
        "## Downloading the NLTK library\n"
      ]
    },
    {
      "cell_type": "code",
      "metadata": {
        "colab": {
          "base_uri": "https://localhost:8080/"
        },
        "id": "wE0RGmi_uMrx",
        "outputId": "ad2d4a9e-b6e8-49fa-e9a1-4c50cc80579a"
      },
      "source": [
        "import nltk\n",
        "nltk.download('punkt')\n",
        "from nltk.tokenize import word_tokenize, sent_tokenize\n",
        "nltk.download('stopwords')\n",
        "from nltk.corpus import stopwords \n",
        "from nltk.stem import PorterStemmer\n",
        "\n",
        "stemmer = PorterStemmer()"
      ],
      "execution_count": 7,
      "outputs": [
        {
          "output_type": "stream",
          "text": [
            "[nltk_data] Downloading package punkt to /root/nltk_data...\n",
            "[nltk_data]   Unzipping tokenizers/punkt.zip.\n",
            "[nltk_data] Downloading package stopwords to /root/nltk_data...\n",
            "[nltk_data]   Unzipping corpora/stopwords.zip.\n"
          ],
          "name": "stdout"
        }
      ]
    },
    {
      "cell_type": "markdown",
      "metadata": {
        "id": "zcwG8PdSa99v"
      },
      "source": [
        "We will convert all text to lower case."
      ]
    },
    {
      "cell_type": "code",
      "metadata": {
        "id": "ncZNlUjK1Wlb"
      },
      "source": [
        "df['reviewText'] = df['reviewText'].str.lower()"
      ],
      "execution_count": 8,
      "outputs": []
    },
    {
      "cell_type": "markdown",
      "metadata": {
        "id": "Ydz-Vd8vZ8fu"
      },
      "source": [
        "## **Tokenization**"
      ]
    },
    {
      "cell_type": "markdown",
      "metadata": {
        "id": "A_7w2y8ba2im"
      },
      "source": [
        "We will use word_tokenize method from NLTK to split the review text into individual words (and you will see that punctuation is also produced as separate `words`"
      ]
    },
    {
      "cell_type": "code",
      "metadata": {
        "id": "Yx1x-1dy3MfZ"
      },
      "source": [
        "def identify_tokens(row):\n",
        "    review = row['reviewText']\n",
        "    tokens = word_tokenize(review)\n",
        "    # taken only words (not punctuation)\n",
        "    token_words = [w for w in tokens if w.isalpha()]\n",
        "    return token_words\n",
        "\n",
        "df['words'] = df.apply(identify_tokens, axis=1)"
      ],
      "execution_count": 9,
      "outputs": []
    },
    {
      "cell_type": "markdown",
      "metadata": {
        "id": "bwMoZwgbaCVn"
      },
      "source": [
        "## **Stemming**"
      ]
    },
    {
      "cell_type": "markdown",
      "metadata": {
        "id": "fomaG3JbavOq"
      },
      "source": [
        "Stemming reduces related words to a common stem. It is an optional process step, and it it is useful to test accuracy with and without stemming"
      ]
    },
    {
      "cell_type": "code",
      "metadata": {
        "id": "X7rpxEuP3MRm"
      },
      "source": [
        "def stem_list(row):\n",
        "    my_list = row['words']\n",
        "    stemmed_list = [stemmer.stem(word) for word in my_list]\n",
        "    return (stemmed_list)\n",
        "\n",
        "df['stemmed_words'] = df.apply(stem_list, axis=1)"
      ],
      "execution_count": 10,
      "outputs": []
    },
    {
      "cell_type": "markdown",
      "metadata": {
        "id": "jGGD7lqCaIqM"
      },
      "source": [
        "## **Removing stop words**"
      ]
    },
    {
      "cell_type": "markdown",
      "metadata": {
        "id": "sGCgJFKUag46"
      },
      "source": [
        "`Stop words` are commonly used words that are unlikely to have any benefit in natural language processing. These includes words such as `a`, `the`, `is`.\n",
        "\n",
        "As before we will define a function and apply it to our DataFrame.\n",
        "\n",
        "We create a set of words that we will call `stops` (using a set helps to speed up removing stop words)."
      ]
    },
    {
      "cell_type": "code",
      "metadata": {
        "id": "eH3-2wZI5ai_"
      },
      "source": [
        "stops = set(stopwords.words(\"english\"))                  \n",
        "\n",
        "def remove_stops(row):\n",
        "    my_list = row['stemmed_words']\n",
        "    meaningful_words = [w for w in my_list if not w in stops]\n",
        "    return (meaningful_words)\n",
        "\n",
        "df['stem_meaningful'] = df.apply(remove_stops, axis=1)"
      ],
      "execution_count": 11,
      "outputs": []
    },
    {
      "cell_type": "markdown",
      "metadata": {
        "id": "c-3Fsc07aQdt"
      },
      "source": [
        "## **Rejoin words**"
      ]
    },
    {
      "cell_type": "markdown",
      "metadata": {
        "id": "-GBxVd-aaWdm"
      },
      "source": [
        "Now we will rejoin our meaningful stemmed words into a single string."
      ]
    },
    {
      "cell_type": "code",
      "metadata": {
        "id": "FyhfS9Vg6TOL"
      },
      "source": [
        "def rejoin_words(row):\n",
        "    my_list = row['stem_meaningful']\n",
        "    joined_words = ( \" \".join(my_list))\n",
        "    return joined_words\n",
        "\n",
        "df['processed'] = df.apply(rejoin_words, axis=1)"
      ],
      "execution_count": 12,
      "outputs": []
    },
    {
      "cell_type": "code",
      "metadata": {
        "id": "SspXYCwqVGQi"
      },
      "source": [
        "review_list = df['processed'].loc[0:14999].to_numpy()"
      ],
      "execution_count": 69,
      "outputs": []
    },
    {
      "cell_type": "code",
      "metadata": {
        "colab": {
          "base_uri": "https://localhost:8080/"
        },
        "id": "6sjeM4-FBqBE",
        "outputId": "a557a836-ae9d-4cb1-8e77-e2f2bbd45acf"
      },
      "source": [
        "len(review_list)"
      ],
      "execution_count": 77,
      "outputs": [
        {
          "output_type": "execute_result",
          "data": {
            "text/plain": [
              "15000"
            ]
          },
          "metadata": {
            "tags": []
          },
          "execution_count": 77
        }
      ]
    },
    {
      "cell_type": "code",
      "metadata": {
        "id": "YFfw43yzkMat"
      },
      "source": [
        "review_labels = df['overall'].loc[0:14999].to_numpy()"
      ],
      "execution_count": 72,
      "outputs": []
    },
    {
      "cell_type": "code",
      "metadata": {
        "colab": {
          "base_uri": "https://localhost:8080/"
        },
        "id": "sIDs3nNNFPpw",
        "outputId": "f06d96d8-4e22-4755-eff1-f49bfee59bc8"
      },
      "source": [
        "review_labels"
      ],
      "execution_count": 73,
      "outputs": [
        {
          "output_type": "execute_result",
          "data": {
            "text/plain": [
              "array([4., 5., 5., ..., 5., 1., 2.])"
            ]
          },
          "metadata": {
            "tags": []
          },
          "execution_count": 73
        }
      ]
    },
    {
      "cell_type": "markdown",
      "metadata": {
        "id": "qiX0iewubCGs"
      },
      "source": [
        "## **Creating Models**"
      ]
    },
    {
      "cell_type": "code",
      "metadata": {
        "id": "ZMoM6ucuX93X"
      },
      "source": [
        "from sklearn.feature_extraction.text import CountVectorizer\n",
        "from sklearn.naive_bayes import MultinomialNB\n",
        "from sklearn.model_selection import train_test_split"
      ],
      "execution_count": 74,
      "outputs": []
    },
    {
      "cell_type": "markdown",
      "metadata": {
        "id": "xurrydM8bHJf"
      },
      "source": [
        "### **Spliting Data**"
      ]
    },
    {
      "cell_type": "code",
      "metadata": {
        "colab": {
          "base_uri": "https://localhost:8080/"
        },
        "id": "qgl1vyt8Jgjd",
        "outputId": "4d984f96-6e02-46b1-be01-61ed3b9faff3"
      },
      "source": [
        "def split_vals(a,n): \n",
        "  return a[:n].copy(), a[n:].copy()\n",
        "\n",
        "n_valid = 5000  # same as Kaggle's test set size\n",
        "n_trn = 15000 - n_valid\n",
        "# raw_train, raw_valid = split_vals(df_raw, n_trn)\n",
        "train_data, test_data = split_vals(review_list, n_trn)\n",
        "train_labels, test_labels = split_vals(review_labels, n_trn)\n",
        "\n",
        "train_data.shape, train_labels.shape, test_data.shape"
      ],
      "execution_count": 78,
      "outputs": [
        {
          "output_type": "execute_result",
          "data": {
            "text/plain": [
              "((10000,), (10000,), (5000,))"
            ]
          },
          "metadata": {
            "tags": []
          },
          "execution_count": 78
        }
      ]
    },
    {
      "cell_type": "code",
      "metadata": {
        "id": "Kox_XVc6f-Z7"
      },
      "source": [
        "counter = CountVectorizer()"
      ],
      "execution_count": 79,
      "outputs": []
    },
    {
      "cell_type": "code",
      "metadata": {
        "colab": {
          "base_uri": "https://localhost:8080/"
        },
        "id": "ZZFJ3N6hgJE9",
        "outputId": "53f6838a-a805-4208-d04c-07462fc2d9a5"
      },
      "source": [
        "counter.fit(train_data)"
      ],
      "execution_count": 80,
      "outputs": [
        {
          "output_type": "execute_result",
          "data": {
            "text/plain": [
              "CountVectorizer(analyzer='word', binary=False, decode_error='strict',\n",
              "                dtype=<class 'numpy.int64'>, encoding='utf-8', input='content',\n",
              "                lowercase=True, max_df=1.0, max_features=None, min_df=1,\n",
              "                ngram_range=(1, 1), preprocessor=None, stop_words=None,\n",
              "                strip_accents=None, token_pattern='(?u)\\\\b\\\\w\\\\w+\\\\b',\n",
              "                tokenizer=None, vocabulary=None)"
            ]
          },
          "metadata": {
            "tags": []
          },
          "execution_count": 80
        }
      ]
    },
    {
      "cell_type": "code",
      "metadata": {
        "id": "lh7KO3NBF72x"
      },
      "source": [
        "counter.vocabulary_"
      ],
      "execution_count": null,
      "outputs": []
    },
    {
      "cell_type": "code",
      "metadata": {
        "colab": {
          "base_uri": "https://localhost:8080/"
        },
        "id": "6DapJUo7hFZB",
        "outputId": "92f90a8d-d66a-43f7-fd6c-42f73d29057e"
      },
      "source": [
        "len(counter.vocabulary_)"
      ],
      "execution_count": 84,
      "outputs": [
        {
          "output_type": "execute_result",
          "data": {
            "text/plain": [
              "12302"
            ]
          },
          "metadata": {
            "tags": []
          },
          "execution_count": 84
        }
      ]
    },
    {
      "cell_type": "code",
      "metadata": {
        "id": "ct9IsEBzhWiN"
      },
      "source": [
        "training_counts = counter.transform(train_data)"
      ],
      "execution_count": 85,
      "outputs": []
    },
    {
      "cell_type": "code",
      "metadata": {
        "id": "FWFj8ar3lnN_"
      },
      "source": [
        "test_counts = counter.transform(test_data)"
      ],
      "execution_count": 86,
      "outputs": []
    },
    {
      "cell_type": "code",
      "metadata": {
        "colab": {
          "base_uri": "https://localhost:8080/"
        },
        "id": "wnvrz0JkDX0P",
        "outputId": "1f9a4d67-3464-4357-e3c0-fd60f48f4301"
      },
      "source": [
        "training_counts.toarray()"
      ],
      "execution_count": 87,
      "outputs": [
        {
          "output_type": "execute_result",
          "data": {
            "text/plain": [
              "array([[0, 0, 0, ..., 0, 0, 0],\n",
              "       [0, 0, 0, ..., 0, 0, 0],\n",
              "       [0, 0, 0, ..., 0, 0, 0],\n",
              "       ...,\n",
              "       [0, 0, 0, ..., 0, 0, 0],\n",
              "       [0, 0, 0, ..., 0, 0, 0],\n",
              "       [0, 0, 0, ..., 0, 0, 0]])"
            ]
          },
          "metadata": {
            "tags": []
          },
          "execution_count": 87
        }
      ]
    },
    {
      "cell_type": "code",
      "metadata": {
        "colab": {
          "base_uri": "https://localhost:8080/"
        },
        "id": "W_oF4sdMDrGh",
        "outputId": "00863e38-1936-4b28-e246-9ff8907d8dba"
      },
      "source": [
        "test_counts.shape"
      ],
      "execution_count": 88,
      "outputs": [
        {
          "output_type": "execute_result",
          "data": {
            "text/plain": [
              "(5000, 12302)"
            ]
          },
          "metadata": {
            "tags": []
          },
          "execution_count": 88
        }
      ]
    },
    {
      "cell_type": "code",
      "metadata": {
        "id": "TGx0PVUIDt4E"
      },
      "source": [
        "classifier = MultinomialNB()"
      ],
      "execution_count": 89,
      "outputs": []
    },
    {
      "cell_type": "code",
      "metadata": {
        "colab": {
          "base_uri": "https://localhost:8080/"
        },
        "id": "Ec3ooLYLDzQ5",
        "outputId": "862a7d0f-c65e-4c90-bc77-e17be5ae7724"
      },
      "source": [
        "classifier.fit(training_counts, train_labels)\n",
        "print(classifier.predict(test_counts))\n",
        "print(classifier.predict_proba(test_counts))"
      ],
      "execution_count": 90,
      "outputs": [
        {
          "output_type": "stream",
          "text": [
            "[5. 5. 5. ... 5. 4. 5.]\n",
            "[[1.01135096e-15 1.00970809e-21 7.76715386e-16 3.09777126e-02\n",
            "  9.69022287e-01]\n",
            " [7.28403929e-05 1.65690853e-06 2.90612058e-03 1.71994288e-01\n",
            "  8.25025094e-01]\n",
            " [5.04002475e-02 1.19349792e-01 1.27978673e-01 3.04441496e-01\n",
            "  3.97829791e-01]\n",
            " ...\n",
            " [1.20893555e-03 3.19307509e-04 4.28237011e-02 2.45652231e-01\n",
            "  7.09995825e-01]\n",
            " [1.16333601e-02 2.96363120e-02 1.69929222e-01 4.21306742e-01\n",
            "  3.67494364e-01]\n",
            " [3.35301765e-01 6.39751782e-04 8.22248096e-02 1.29875309e-02\n",
            "  5.68846142e-01]]\n"
          ],
          "name": "stdout"
        }
      ]
    },
    {
      "cell_type": "code",
      "metadata": {
        "colab": {
          "base_uri": "https://localhost:8080/"
        },
        "id": "wMIFkOK6EHE2",
        "outputId": "a9bbdd85-f024-4bb9-c366-eb11ab02cfcc"
      },
      "source": [
        "print(classifier.score(test_counts, test_labels))"
      ],
      "execution_count": 91,
      "outputs": [
        {
          "output_type": "stream",
          "text": [
            "0.5528\n"
          ],
          "name": "stdout"
        }
      ]
    }
  ]
}